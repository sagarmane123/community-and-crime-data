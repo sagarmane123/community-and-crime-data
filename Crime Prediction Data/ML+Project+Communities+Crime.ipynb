{
 "cells": [
  {
   "cell_type": "code",
   "execution_count": 9,
   "metadata": {
    "collapsed": true,
    "deletable": true,
    "editable": true
   },
   "outputs": [],
   "source": [
    "import pandas as pd\n",
    "df = pd.read_csv(\"Crime Prediction Data\\\\communities-crime-clean.csv\")"
   ]
  },
  {
   "cell_type": "code",
   "execution_count": 10,
   "metadata": {
    "collapsed": false,
    "deletable": true,
    "editable": true
   },
   "outputs": [
    {
     "name": "stdout",
     "output_type": "stream",
     "text": [
      "Percentage of Positive Instances: 62.719518314099346\n",
      "Percentage of Negative Instances: 37.280481685900654\n"
     ]
    }
   ],
   "source": [
    "#1a \n",
    "\n",
    "highCrime = []\n",
    "pos=0\n",
    "neg=0\n",
    "\n",
    "for i in df[\"ViolentCrimesPerPop\"]:\n",
    "    if i > 0.1:\n",
    "        highCrime.append(True)\n",
    "        pos+=1\n",
    "    else:\n",
    "        highCrime.append(False)\n",
    "        neg+=1\n",
    "\n",
    "positive_instances = pos/len(highCrime)*100\n",
    "negative_instances = neg/len(highCrime)*100\n",
    "\n",
    "print(\"Percentage of Positive Instances: \"+ str(positive_instances))\n",
    "print(\"Percentage of Negative Instances: \"+ str(negative_instances))"
   ]
  },
  {
   "cell_type": "code",
   "execution_count": 11,
   "metadata": {
    "collapsed": false,
    "deletable": true,
    "editable": true
   },
   "outputs": [
    {
     "name": "stdout",
     "output_type": "stream",
     "text": [
      "Accuracy: 1.0\n",
      "F1 score: 1.0\n",
      "Recall: 1.0\n",
      "Precision: 1.0\n",
      "[('PctKids2Par', 0.36209759506604222)]\n"
     ]
    }
   ],
   "source": [
    "#1b\n",
    "\n",
    "from sklearn import tree, metrics\n",
    "\n",
    "highCrime = pd.DataFrame(highCrime)\n",
    "import numpy as np\n",
    "\n",
    "\n",
    "def predictive_features(data,highCrime):\n",
    "    true_data = []\n",
    "    false_data = []\n",
    "    res=[]\n",
    "    for i in range(len(highCrime)):\n",
    "        if (highCrime[0].values[i]):\n",
    "            true_data.append(data[i])\n",
    "        else:\n",
    "            false_data.append(data[i])\n",
    "\n",
    "    return abs(np.mean(true_data)-np.mean(false_data))/ (np.std(true_data)+np.std(false_data))\n",
    "df = pd.DataFrame(df)\n",
    "\n",
    "clf = tree.DecisionTreeClassifier()\n",
    "clf = clf.fit(df, highCrime)\n",
    "prediction = clf.predict(df)\n",
    "\n",
    "print ('Accuracy:', metrics.accuracy_score(highCrime, prediction))\n",
    "print ('F1 score:', metrics.f1_score(highCrime, prediction))\n",
    "print ('Recall:', metrics.recall_score(highCrime, prediction))\n",
    "print ('Precision:', metrics.precision_score(highCrime, prediction))\n",
    "\n",
    "# Importance Features\n",
    "\n",
    "importantFeatures = sorted(zip(df.columns, clf.feature_importances_), key=lambda x: x[1], reverse=True)\n",
    "print(importantFeatures[:1])"
   ]
  },
  {
   "cell_type": "code",
   "execution_count": 12,
   "metadata": {
    "collapsed": false,
    "deletable": true,
    "editable": true
   },
   "outputs": [
    {
     "name": "stdout",
     "output_type": "stream",
     "text": [
      "Accuracy | Precision | recall\n",
      "0.75 \t   0.76        0.89\n",
      "0.79 \t   0.83        0.83\n",
      "0.74 \t   0.75        0.78\n",
      "0.76 \t   0.77        0.84\n",
      "0.67 \t   0.78        0.66\n",
      "0.64 \t   0.75        0.66\n",
      "0.76 \t   0.74        0.80\n",
      "0.70 \t   0.83        0.63\n",
      "0.76 \t   0.78        0.86\n",
      "0.70 \t   0.82        0.74\n"
     ]
    }
   ],
   "source": [
    "#1c\n",
    "\n",
    "from sklearn.model_selection import cross_val_score\n",
    "\n",
    "accuracy = (cross_val_score(clf,df,highCrime[0].values,cv=10))\n",
    "precision = (cross_val_score(clf,df,highCrime[0].values,cv=10,scoring='precision'))\n",
    "recall = (cross_val_score(clf,df,highCrime[0].values,cv=10,scoring='recall'))\n",
    "\n",
    "print(\"Accuracy |\", \"Precision |\", \"recall\")\n",
    "for i in range(10):\n",
    "    print (format(accuracy[i], '.2f'),\"\\t  \",format(precision[i], '.2f'),\"      \",format(recall[i], '.2f'))\n",
    "# print ('Accuracy', accuracy)\n",
    "# print ('precision', precision)\n",
    "# print ('recall', recall)"
   ]
  },
  {
   "cell_type": "code",
   "execution_count": 13,
   "metadata": {
    "collapsed": false
   },
   "outputs": [
    {
     "name": "stderr",
     "output_type": "stream",
     "text": [
      "c:\\users\\sagar m\\appdata\\local\\programs\\python\\python36-32\\lib\\site-packages\\sklearn\\utils\\validation.py:526: DataConversionWarning: A column-vector y was passed when a 1d array was expected. Please change the shape of y to (n_samples, ), for example using ravel().\n",
      "  y = column_or_1d(y, warn=True)\n"
     ]
    },
    {
     "name": "stdout",
     "output_type": "stream",
     "text": [
      "Accuracy | Precision | recall\n",
      "0.78 \t   0.86        0.76\n",
      "0.80 \t   0.93        0.74\n",
      "0.82 \t   0.95        0.76\n",
      "0.80 \t   0.92        0.74\n",
      "0.70 \t   0.95        0.56\n",
      "0.65 \t   0.87        0.53\n",
      "0.81 \t   0.92        0.77\n",
      "0.73 \t   1.00        0.58\n",
      "0.71 \t   0.78        0.76\n",
      "0.80 \t   0.94        0.73\n"
     ]
    }
   ],
   "source": [
    "# Linear Classification\n",
    "#2a i\n",
    "from sklearn.naive_bayes import GaussianNB\n",
    "from sklearn.model_selection import cross_val_score\n",
    "\n",
    "gnb = GaussianNB()\n",
    "gnb = gnb.fit(df, highCrime)\n",
    "\n",
    "accuracy = (cross_val_score(gnb,df,highCrime[0].values,cv=10))\n",
    "precision = (cross_val_score(gnb,df,highCrime[0].values,cv=10,scoring='precision'))\n",
    "recall = (cross_val_score(gnb,df,highCrime[0].values,cv=10,scoring='recall'))\n",
    "\n",
    "print(\"Accuracy |\", \"Precision |\", \"recall\")\n",
    "for i in range(10):\n",
    "    print (format(accuracy[i], '.2f'),\"\\t  \",format(precision[i], '.2f'),\"      \",format(recall[i], '.2f'))"
   ]
  },
  {
   "cell_type": "code",
   "execution_count": 14,
   "metadata": {
    "collapsed": true
   },
   "outputs": [],
   "source": [
    "#2a ii\n",
    "#Predictive Features\n",
    "\n",
    "import numpy as np\n",
    "\n",
    "def predictive_features(data,highCrime):\n",
    "    true_data = []\n",
    "    false_data = []\n",
    "    res=[]\n",
    "    for i in range(len(highCrime)):\n",
    "        if (highCrime[0].values[i]):\n",
    "            true_data.append(data[i])\n",
    "        else:\n",
    "            false_data.append(data[i])\n",
    "\n",
    "    return abs(np.mean(true_data)-np.mean(false_data))/ (np.std(true_data)+np.std(false_data))\n",
    "    "
   ]
  },
  {
   "cell_type": "code",
   "execution_count": 15,
   "metadata": {
    "collapsed": false
   },
   "outputs": [
    {
     "name": "stdout",
     "output_type": "stream",
     "text": [
      "[('PctKids2Par', 0.80974842822770576), ('PctFam2Par', 0.74554480821667002), ('racePctWhite', 0.73522995312324224), ('PctIlleg', 0.70926105120057914), ('FemalePctDiv', 0.69397808830331542), ('TotalPctDiv', 0.67464460922247593), ('PctYoungKids2Par', 0.66500856988477031), ('pctWInvInc', 0.66107643266548766), ('PctTeen2Par', 0.64294944817476585), ('MalePctDivorce', 0.61686365922304187)]\n"
     ]
    }
   ],
   "source": [
    "#2a ii\n",
    "# 10 most predictive features? \n",
    "\n",
    "pf=[]\n",
    "for i in df.columns:\n",
    "    pf.append(predictive_features(df[i],highCrime))\n",
    "\n",
    "\n",
    "importantPredictiveFeatures = sorted(zip(df.columns, pf), key=lambda x: x[1], reverse=True)\n",
    "print(importantPredictiveFeatures[:10])"
   ]
  },
  {
   "cell_type": "code",
   "execution_count": 23,
   "metadata": {
    "collapsed": false
   },
   "outputs": [
    {
     "name": "stderr",
     "output_type": "stream",
     "text": [
      "c:\\users\\sagar m\\appdata\\local\\programs\\python\\python36-32\\lib\\site-packages\\sklearn\\utils\\validation.py:526: DataConversionWarning: A column-vector y was passed when a 1d array was expected. Please change the shape of y to (n_samples, ), for example using ravel().\n",
      "  y = column_or_1d(y, warn=True)\n"
     ]
    },
    {
     "name": "stdout",
     "output_type": "stream",
     "text": [
      "Accuracy | Precision | recall\n",
      "0.79 \t   0.77        0.95\n",
      "0.86 \t   0.85        0.96\n",
      "0.84 \t   0.83        0.94\n",
      "0.81 \t   0.86        0.83\n",
      "0.69 \t   0.87        0.60\n",
      "0.69 \t   0.80        0.69\n",
      "0.81 \t   0.85        0.86\n",
      "0.82 \t   0.96        0.75\n",
      "0.82 \t   0.81        0.94\n",
      "0.81 \t   0.87        0.82\n",
      "[('PersPerOccupHous', 1.755123003384176), ('RentHighQ', 1.0668844094265555), ('MalePctDivorce', 1.0656959890867639), ('NumUnderPov', 1.0515479772565259), ('NumStreet', 1.0191547733049122), ('PctOccupMgmtProf', 1.014674021031458), ('population', 1.0023007997249644), ('agePct12t21', 0.98827249867083566), ('HousVacant', 0.93651444216293667), ('agePct65up', 0.89057203066088797)]\n"
     ]
    }
   ],
   "source": [
    "#2b i\n",
    "from sklearn.svm import LinearSVC\n",
    "from sklearn.model_selection import cross_val_score\n",
    "\n",
    "lsvc = LinearSVC()\n",
    "lsvc = lsvc.fit(df, highCrime)\n",
    "\n",
    "accuracy = (cross_val_score(lsvc,df,highCrime[0].values,cv=10))\n",
    "precision = (cross_val_score(lsvc,df,highCrime[0].values,cv=10,scoring='precision'))\n",
    "recall = (cross_val_score(lsvc,df,highCrime[0].values,cv=10,scoring='recall'))\n",
    "\n",
    "print(\"Accuracy |\", \"Precision |\", \"recall\")\n",
    "for i in range(10):\n",
    "    print (format(accuracy[i], '.2f'),\"\\t  \",format(precision[i], '.2f'),\"      \",format(recall[i], '.2f'))\n",
    "    \n",
    "# Importance predictive Features\n",
    "ipf = lsvc.coef_\n",
    "importantPredictiveFeatures_lsvc = sorted(zip(df.columns, ipf[0]), key=lambda x: x[1], reverse=True)\n",
    "print(importantPredictiveFeatures_lsvc[:10])"
   ]
  }
 ],
 "metadata": {
  "kernelspec": {
   "display_name": "Python 3",
   "language": "python",
   "name": "python3"
  },
  "language_info": {
   "codemirror_mode": {
    "name": "ipython",
    "version": 3
   },
   "file_extension": ".py",
   "mimetype": "text/x-python",
   "name": "python",
   "nbconvert_exporter": "python",
   "pygments_lexer": "ipython3",
   "version": "3.6.1"
  }
 },
 "nbformat": 4,
 "nbformat_minor": 2
}
